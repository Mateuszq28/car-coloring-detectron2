{
  "nbformat": 4,
  "nbformat_minor": 0,
  "metadata": {
    "colab": {
      "name": "2022-01-18_WK_projekt_kolorowanie_aut.ipynb",
      "provenance": [],
      "collapsed_sections": [
        "PYda_ujMBcgY",
        "YNvLdwx3D-Vu",
        "H2I7CHSiLrSc",
        "lTp97TykSbUc",
        "dSqSC19OXkQN",
        "r7zJppjIbBkE",
        "48zpeq_mGyvS",
        "Rf4OSSU1Z15i",
        "vkRw_qNtjdlR",
        "rkNc16Jl0TIp",
        "G6X_EKHI-q_O"
      ],
      "private_outputs": true
    },
    "kernelspec": {
      "name": "python3",
      "display_name": "Python 3"
    },
    "language_info": {
      "name": "python"
    },
    "accelerator": "GPU"
  },
  "cells": [
    {
      "cell_type": "markdown",
      "metadata": {
        "id": "PYda_ujMBcgY"
      },
      "source": [
        "# Instalacja detectron2"
      ]
    },
    {
      "cell_type": "code",
      "metadata": {
        "id": "UdocYI5r-m-3"
      },
      "source": [
        "!pip install pyyaml==5.1\n",
        "\n",
        "import torch\n",
        "TORCH_VERSION = \".\".join(torch.__version__.split(\".\")[:2])\n",
        "CUDA_VERSION = torch.__version__.split(\"+\")[-1]\n",
        "print(\"torch: \", TORCH_VERSION, \"; cuda: \", CUDA_VERSION)\n",
        "# Install detectron2 that matches the above pytorch version\n",
        "# See https://detectron2.readthedocs.io/tutorials/install.html for instructions\n",
        "!pip install detectron2 -f https://dl.fbaipublicfiles.com/detectron2/wheels/$CUDA_VERSION/torch$TORCH_VERSION/index.html\n",
        "# If there is not yet a detectron2 release that matches the given torch + CUDA version, you need to install a different pytorch.\n",
        "\n",
        "# exit(0)  # After installation, you may need to \"restart runtime\" in Colab. This line can also restart runtime"
      ],
      "execution_count": null,
      "outputs": []
    },
    {
      "cell_type": "code",
      "metadata": {
        "id": "_mqYfPbACck0"
      },
      "source": [
        "# Some basic setup:\n",
        "# Setup detectron2 logger\n",
        "import detectron2\n",
        "from detectron2.utils.logger import setup_logger\n",
        "setup_logger()\n",
        "\n",
        "# import some common libraries\n",
        "import numpy as np\n",
        "import os, json, cv2, random\n",
        "from google.colab.patches import cv2_imshow\n",
        "\n",
        "# import some common detectron2 utilities\n",
        "from detectron2 import model_zoo\n",
        "from detectron2.engine import DefaultPredictor\n",
        "from detectron2.config import get_cfg\n",
        "from detectron2.utils.visualizer import Visualizer\n",
        "from detectron2.data import MetadataCatalog, DatasetCatalog"
      ],
      "execution_count": null,
      "outputs": []
    },
    {
      "cell_type": "markdown",
      "metadata": {
        "id": "YNvLdwx3D-Vu"
      },
      "source": [
        "# Załadowanie zbioru Kaggle [3]\n",
        "\n",
        "dla zbioru kaggle należy dodatkowo załadować pliki z adnotacjami coco json (kaggle_masks_coco_val.json, kaggle_mask_coco_train.json, kaggle_mask_coco_test.json) oraz klucz do appi (kaggle.json)\n",
        "\n",
        "dla zbiorów połączonych nazwy plików są inne - będą to:\n",
        "1. kaggle.json\n",
        "2. merged_git_and_kaggle_COCO_train.json\n",
        "3. merged_git_and_kaggle_COCO_test.json\n",
        "4. merged_git_and_kaggle_COCO_val.json\n",
        "\n",
        "a dla samego zbioru z gita będą to:\n",
        "1. kaggle.json\n",
        "2. git_annotations_coco_train.json\n",
        "3. git_annotations_coco_test.json\n",
        "4. git_annotations_coco_val.json\n",
        " "
      ]
    },
    {
      "cell_type": "code",
      "metadata": {
        "id": "eGPQ-PQHEA_x"
      },
      "source": [
        "! pip install kaggle"
      ],
      "execution_count": null,
      "outputs": []
    },
    {
      "cell_type": "code",
      "metadata": {
        "id": "vwZLQ6V7EyD4"
      },
      "source": [
        "! mkdir ~/.kaggle"
      ],
      "execution_count": null,
      "outputs": []
    },
    {
      "cell_type": "code",
      "metadata": {
        "id": "3SwbNdFqEMm_"
      },
      "source": [
        "! cp kaggle.json ~/.kaggle/"
      ],
      "execution_count": null,
      "outputs": []
    },
    {
      "cell_type": "code",
      "metadata": {
        "id": "TVAoJxa_FCV8"
      },
      "source": [
        "! chmod 600 ~/.kaggle/kaggle.json"
      ],
      "execution_count": null,
      "outputs": []
    },
    {
      "cell_type": "code",
      "metadata": {
        "id": "8nCynOdJE6Wi"
      },
      "source": [
        "!kaggle datasets download -d intelecai/car-segmentation"
      ],
      "execution_count": null,
      "outputs": []
    },
    {
      "cell_type": "code",
      "metadata": {
        "id": "cW3xVG43-rTI"
      },
      "source": [
        "! unzip car-segmentation.zip"
      ],
      "execution_count": null,
      "outputs": []
    },
    {
      "cell_type": "markdown",
      "metadata": {
        "id": "H2I7CHSiLrSc"
      },
      "source": [
        "# Wrzuć zbiór kaggle [3] do folderów train test val"
      ]
    },
    {
      "cell_type": "code",
      "source": [
        "ONLY_KAGGLE = False"
      ],
      "metadata": {
        "id": "s5cq8RyoXJtI"
      },
      "execution_count": null,
      "outputs": []
    },
    {
      "cell_type": "code",
      "metadata": {
        "id": "zf2VY8deMMX1"
      },
      "source": [
        "if ONLY_KAGGLE:\n",
        "  ! mkdir car\n",
        "  ! mkdir car/train\n",
        "  ! mkdir car/val\n",
        "  ! mkdir car/test"
      ],
      "execution_count": null,
      "outputs": []
    },
    {
      "cell_type": "code",
      "metadata": {
        "id": "doP9i_klNm1R"
      },
      "source": [
        "if ONLY_KAGGLE:\n",
        "  train_json = \"kaggle_masks_coco_train.json\"\n",
        "  val_json = \"kaggle_masks_coco_val.json\"\n",
        "  test_json = \"kaggle_masks_coco_test.json\""
      ],
      "execution_count": null,
      "outputs": []
    },
    {
      "cell_type": "code",
      "metadata": {
        "id": "qL1VlLqZxkdi"
      },
      "source": [
        "if ONLY_KAGGLE:\n",
        "  train_json = \"wiki_COCO_211_train.json\"\n",
        "  val_json = \"wiki_COCO_211_val.json\"\n",
        "  test_json = \"wiki_COCO_211_test.json\""
      ],
      "execution_count": null,
      "outputs": []
    },
    {
      "cell_type": "code",
      "metadata": {
        "id": "iOQ_6lPeQ3T3"
      },
      "source": [
        "if ONLY_KAGGLE:\n",
        "  import json\n",
        "  import os\n",
        "  import shutil"
      ],
      "execution_count": null,
      "outputs": []
    },
    {
      "cell_type": "code",
      "metadata": {
        "id": "GnOo9CliNfix"
      },
      "source": [
        "if ONLY_KAGGLE:\n",
        "  with open(train_json) as trainF:\n",
        "    train_dict = json.load(trainF)\n",
        "\n",
        "  with open(val_json) as valF:\n",
        "    val_dict = json.load(valF)\n",
        "\n",
        "  with open(test_json) as testF:\n",
        "    test_dict = json.load(testF)\n",
        "\n",
        "  def getImgFilenameListFromDict(dic):\n",
        "    outputList = []\n",
        "    for im in dic['images']:\n",
        "      outputList.append(im['file_name'])\n",
        "    return outputList\n",
        "\n",
        "  train_filenames = getImgFilenameListFromDict(train_dict)\n",
        "  val_filenames = getImgFilenameListFromDict(val_dict)\n",
        "  test_filenames = getImgFilenameListFromDict(test_dict)\n",
        "\n",
        "  def copyToMainSet(inputPrefix, filenameList, outputPrefix):\n",
        "    for fn in filenameList:\n",
        "      input = os.path.join(inputPrefix, fn)\n",
        "      output = os.path.join(outputPrefix, fn)\n",
        "      shutil.copyfile(input, output)\n",
        "\n",
        "  copyToMainSet(\"car-segmentation/images\", train_filenames, \"car/train\")\n",
        "  copyToMainSet(\"car-segmentation/images\", val_filenames, \"car/val\")\n",
        "  copyToMainSet(\"car-segmentation/images\", test_filenames, \"car/test\")"
      ],
      "execution_count": null,
      "outputs": []
    },
    {
      "cell_type": "code",
      "metadata": {
        "id": "fgDwM8u4alsC"
      },
      "source": [
        "if ONLY_KAGGLE:\n",
        "  json_out_name = \"via_region_data.json\"\n",
        "  shutil.copyfile(train_json, os.path.join(\"car/train\", json_out_name))\n",
        "  shutil.copyfile(val_json, os.path.join(\"car/val\", json_out_name))\n",
        "  shutil.copyfile(test_json, os.path.join(\"car/test\", json_out_name))"
      ],
      "execution_count": null,
      "outputs": []
    },
    {
      "cell_type": "markdown",
      "source": [
        "#Załadowanie zbioru z githuba [1]"
      ],
      "metadata": {
        "id": "lTp97TykSbUc"
      }
    },
    {
      "cell_type": "code",
      "source": [
        "! git clone https://github.com/dsmlr/Car-Parts-Segmentation.git"
      ],
      "metadata": {
        "id": "7xrwsYhYWBPM"
      },
      "execution_count": null,
      "outputs": []
    },
    {
      "cell_type": "markdown",
      "metadata": {
        "id": "dSqSC19OXkQN"
      },
      "source": [
        "# Wrzuć zbiór zbiór z githuba [1] do folderów train test val"
      ]
    },
    {
      "cell_type": "code",
      "source": [
        "ONLY_GIT = False"
      ],
      "metadata": {
        "id": "UvmyiAPmX8gO"
      },
      "execution_count": null,
      "outputs": []
    },
    {
      "cell_type": "code",
      "source": [
        "if ONLY_GIT:\n",
        "  ! mkdir car\n",
        "  ! mkdir car/train\n",
        "  ! mkdir car/val\n",
        "  ! mkdir car/test"
      ],
      "metadata": {
        "id": "Ebqa3lDNYBMa"
      },
      "execution_count": null,
      "outputs": []
    },
    {
      "cell_type": "code",
      "source": [
        "if ONLY_GIT:\n",
        "  train_json = \"git_annotations_coco_train.json\"\n",
        "  val_json = \"git_annotations_coco_val.json\"\n",
        "  test_json = \"git_annotations_coco_test.json\""
      ],
      "metadata": {
        "id": "dKy9Yl-WYFoK"
      },
      "execution_count": null,
      "outputs": []
    },
    {
      "cell_type": "code",
      "source": [
        "if ONLY_GIT:\n",
        "  import json\n",
        "  import os\n",
        "  import shutil"
      ],
      "metadata": {
        "id": "GGVf99_oYVHI"
      },
      "execution_count": null,
      "outputs": []
    },
    {
      "cell_type": "code",
      "source": [
        "if ONLY_GIT:\n",
        "  ! mkdir git_set_all\n",
        "  ! cp -a Car-Parts-Segmentation/testset/JPEGImages/. git_set_all/\n",
        "  ! cp -a Car-Parts-Segmentation/trainingset/JPEGImages/. git_set_all/\n",
        "  ! ls git_set_all/ | wc -l"
      ],
      "metadata": {
        "id": "Hb_qrfi3Yg9B"
      },
      "execution_count": null,
      "outputs": []
    },
    {
      "cell_type": "code",
      "source": [
        "if ONLY_GIT:\n",
        "  with open(train_json) as trainF:\n",
        "    train_dict = json.load(trainF)\n",
        "\n",
        "  with open(val_json) as valF:\n",
        "    val_dict = json.load(valF)\n",
        "\n",
        "  with open(test_json) as testF:\n",
        "    test_dict = json.load(testF)\n",
        "\n",
        "  def getImgFilenameListFromDict(dic):\n",
        "    outputList = []\n",
        "    for im in dic['images']:\n",
        "      outputList.append(im['file_name'])\n",
        "    return outputList\n",
        "\n",
        "  train_filenames = getImgFilenameListFromDict(train_dict)\n",
        "  val_filenames = getImgFilenameListFromDict(val_dict)\n",
        "  test_filenames = getImgFilenameListFromDict(test_dict)\n",
        "\n",
        "  def copyToMainSet(inputPrefix, filenameList, outputPrefix):\n",
        "    for fn in filenameList:\n",
        "      input = os.path.join(inputPrefix, fn)\n",
        "      output = os.path.join(outputPrefix, fn)\n",
        "      shutil.copyfile(input, output)\n",
        "\n",
        "  copyToMainSet(\"git_set_all\", train_filenames, \"car/train\")\n",
        "  copyToMainSet(\"git_set_all\", val_filenames, \"car/val\")\n",
        "  copyToMainSet(\"git_set_all\", test_filenames, \"car/test\")"
      ],
      "metadata": {
        "id": "RYrbNN9fYZgn"
      },
      "execution_count": null,
      "outputs": []
    },
    {
      "cell_type": "code",
      "source": [
        "if ONLY_GIT:\n",
        "  json_out_name = \"via_region_data.json\"\n",
        "  shutil.copyfile(train_json, os.path.join(\"car/train\", json_out_name))\n",
        "  shutil.copyfile(val_json, os.path.join(\"car/val\", json_out_name))\n",
        "  shutil.copyfile(test_json, os.path.join(\"car/test\", json_out_name))"
      ],
      "metadata": {
        "id": "yZpcEgAXaiWH"
      },
      "execution_count": null,
      "outputs": []
    },
    {
      "cell_type": "markdown",
      "source": [
        "# Wrzuć kaggle [3] i git [1] do zbioru zbiorczego"
      ],
      "metadata": {
        "id": "r7zJppjIbBkE"
      }
    },
    {
      "cell_type": "code",
      "source": [
        "GIT_AND_KAGGLE = True"
      ],
      "metadata": {
        "id": "TNY3lTVfbSq3"
      },
      "execution_count": null,
      "outputs": []
    },
    {
      "cell_type": "code",
      "source": [
        "if GIT_AND_KAGGLE:\n",
        "  ! mkdir car\n",
        "  ! mkdir car/train\n",
        "  ! mkdir car/val\n",
        "  ! mkdir car/test"
      ],
      "metadata": {
        "id": "EXlHOSPgbU0d"
      },
      "execution_count": null,
      "outputs": []
    },
    {
      "cell_type": "code",
      "source": [
        "if GIT_AND_KAGGLE:\n",
        "  train_json = \"merged_git_and_kaggle_COCO_train.json\"\n",
        "  val_json = \"merged_git_and_kaggle_COCO_val.json\"\n",
        "  test_json = \"merged_git_and_kaggle_COCO_test.json\""
      ],
      "metadata": {
        "id": "xOdFF17jbfCO"
      },
      "execution_count": null,
      "outputs": []
    },
    {
      "cell_type": "code",
      "source": [
        "if GIT_AND_KAGGLE:\n",
        "  import json\n",
        "  import os\n",
        "  import shutil"
      ],
      "metadata": {
        "id": "jvNG8Ytmbury"
      },
      "execution_count": null,
      "outputs": []
    },
    {
      "cell_type": "code",
      "source": [
        "if GIT_AND_KAGGLE:\n",
        "  ! mkdir git_and_kaggle_merged\n",
        "  ! cp -a Car-Parts-Segmentation/testset/JPEGImages/. git_and_kaggle_merged/\n",
        "  ! cp -a Car-Parts-Segmentation/trainingset/JPEGImages/. git_and_kaggle_merged/\n",
        "  ! cp -a car-segmentation/images/. git_and_kaggle_merged/\n",
        "  ! ls git_and_kaggle_merged/ | wc -l"
      ],
      "metadata": {
        "id": "8mTa6OaPb1Kr"
      },
      "execution_count": null,
      "outputs": []
    },
    {
      "cell_type": "code",
      "source": [
        "if GIT_AND_KAGGLE:\n",
        "  with open(train_json) as trainF:\n",
        "    train_dict = json.load(trainF)\n",
        "\n",
        "  with open(val_json) as valF:\n",
        "    val_dict = json.load(valF)\n",
        "\n",
        "  with open(test_json) as testF:\n",
        "    test_dict = json.load(testF)\n",
        "\n",
        "  def getImgFilenameListFromDict(dic):\n",
        "    outputList = []\n",
        "    for im in dic['images']:\n",
        "      outputList.append(im['file_name'])\n",
        "    return outputList\n",
        "\n",
        "  train_filenames = getImgFilenameListFromDict(train_dict)\n",
        "  val_filenames = getImgFilenameListFromDict(val_dict)\n",
        "  test_filenames = getImgFilenameListFromDict(test_dict)\n",
        "\n",
        "  def copyToMainSet(inputPrefix, filenameList, outputPrefix):\n",
        "    for fn in filenameList:\n",
        "      input = os.path.join(inputPrefix, fn)\n",
        "      output = os.path.join(outputPrefix, fn)\n",
        "      shutil.copyfile(input, output)\n",
        "\n",
        "  copyToMainSet(\"git_and_kaggle_merged\", train_filenames, \"car/train\")\n",
        "  copyToMainSet(\"git_and_kaggle_merged\", val_filenames, \"car/val\")\n",
        "  copyToMainSet(\"git_and_kaggle_merged\", test_filenames, \"car/test\")"
      ],
      "metadata": {
        "id": "JmAecmlEb5MV"
      },
      "execution_count": null,
      "outputs": []
    },
    {
      "cell_type": "code",
      "source": [
        "if GIT_AND_KAGGLE:\n",
        "  json_out_name = \"via_region_data.json\"\n",
        "  shutil.copyfile(train_json, os.path.join(\"car/train\", json_out_name))\n",
        "  shutil.copyfile(val_json, os.path.join(\"car/val\", json_out_name))\n",
        "  shutil.copyfile(test_json, os.path.join(\"car/test\", json_out_name))"
      ],
      "metadata": {
        "id": "jfpx0kzsce66"
      },
      "execution_count": null,
      "outputs": []
    },
    {
      "cell_type": "markdown",
      "metadata": {
        "id": "48zpeq_mGyvS"
      },
      "source": [
        "# Przygotuj zbiór danych dla detectrona2"
      ]
    },
    {
      "cell_type": "code",
      "metadata": {
        "id": "TPBArXPAdVoq"
      },
      "source": [
        "# if your dataset is in COCO format, this cell can be replaced by the following three lines:\n",
        "from detectron2.data.datasets import register_coco_instances\n",
        "register_coco_instances(\"car_train\", {}, train_json, \"car/train\")\n",
        "register_coco_instances(\"car_val\", {}, val_json, \"car/val\")\n",
        "register_coco_instances(\"car_test\", {}, test_json, \"car/test\")\n",
        "\n",
        "\n",
        "train_metadata = MetadataCatalog.get(\"car_train\")\n",
        "val_metadata = MetadataCatalog.get(\"car_val\")\n",
        "test_metadata = MetadataCatalog.get(\"car_test\")"
      ],
      "execution_count": null,
      "outputs": []
    },
    {
      "cell_type": "markdown",
      "metadata": {
        "id": "Rf4OSSU1Z15i"
      },
      "source": [
        "# Wizualizacja wczytanych zbiorów zbiorczych"
      ]
    },
    {
      "cell_type": "code",
      "metadata": {
        "id": "NiTUP49RnD2A"
      },
      "source": [
        "dataset_dicts = DatasetCatalog.get(\"car_test\")\n",
        "for d in random.sample(dataset_dicts, 3):\n",
        "    # path = os.path.join('car/train', d[\"file_name\"])\n",
        "    path = d[\"file_name\"]\n",
        "    img = cv2.imread(path)\n",
        "    print(path)\n",
        "    visualizer = Visualizer(img[:, :, ::-1], metadata=test_metadata, scale=0.5)\n",
        "    out = visualizer.draw_dataset_dict(d)\n",
        "    cv2_imshow(out.get_image()[:, :, ::-1])"
      ],
      "execution_count": null,
      "outputs": []
    },
    {
      "cell_type": "markdown",
      "metadata": {
        "id": "94eeBoCvsM5C"
      },
      "source": [
        "wizualizacja walidacyjny"
      ]
    },
    {
      "cell_type": "code",
      "metadata": {
        "id": "7az7xrLUr5lf"
      },
      "source": [
        "dataset_dicts = DatasetCatalog.get(\"car_val\")\n",
        "for d in random.sample(dataset_dicts, 3):\n",
        "    # path = os.path.join('car/train', d[\"file_name\"])\n",
        "    path = d[\"file_name\"]\n",
        "    img = cv2.imread(path)\n",
        "    print(path)\n",
        "    visualizer = Visualizer(img[:, :, ::-1], metadata=val_metadata, scale=0.5)\n",
        "    out = visualizer.draw_dataset_dict(d)\n",
        "    cv2_imshow(out.get_image()[:, :, ::-1])"
      ],
      "execution_count": null,
      "outputs": []
    },
    {
      "cell_type": "markdown",
      "metadata": {
        "id": "AAsDI7nmsQJX"
      },
      "source": [
        "wizualizacja treningowy"
      ]
    },
    {
      "cell_type": "code",
      "metadata": {
        "id": "_HX1CmVSsIEK"
      },
      "source": [
        "dataset_dicts = DatasetCatalog.get(\"car_train\")\n",
        "for d in random.sample(dataset_dicts, 3):\n",
        "    # path = os.path.join('car/train', d[\"file_name\"])\n",
        "    path = d[\"file_name\"]\n",
        "    img = cv2.imread(path)\n",
        "    print(path)\n",
        "    visualizer = Visualizer(img[:, :, ::-1], metadata=train_metadata, scale=0.5)\n",
        "    out = visualizer.draw_dataset_dict(d)\n",
        "    cv2_imshow(out.get_image()[:, :, ::-1])"
      ],
      "execution_count": null,
      "outputs": []
    },
    {
      "cell_type": "code",
      "metadata": {
        "id": "tJ-xOM93pl7M"
      },
      "source": [
        "# dataset_dicts"
      ],
      "execution_count": null,
      "outputs": []
    },
    {
      "cell_type": "markdown",
      "metadata": {
        "id": "vkRw_qNtjdlR"
      },
      "source": [
        "# Trening"
      ]
    },
    {
      "cell_type": "code",
      "source": [
        "DO_TRAIN = False"
      ],
      "metadata": {
        "id": "B2UDoUr13LAV"
      },
      "execution_count": null,
      "outputs": []
    },
    {
      "cell_type": "code",
      "metadata": {
        "id": "1tHgMJA9t97_"
      },
      "source": [
        "if DO_TRAIN:\n",
        "  from detectron2.engine import DefaultTrainer\n",
        "\n",
        "  cfg = get_cfg()\n",
        "  cfg.merge_from_file(model_zoo.get_config_file(\"COCO-InstanceSegmentation/mask_rcnn_R_50_FPN_3x.yaml\"))\n",
        "  cfg.DATASETS.TRAIN = (\"car_train\",)\n",
        "  cfg.DATASETS.TEST = ()\n",
        "  cfg.DATALOADER.NUM_WORKERS = 2\n",
        "  cfg.MODEL.WEIGHTS = model_zoo.get_checkpoint_url(\"COCO-InstanceSegmentation/mask_rcnn_R_50_FPN_3x.yaml\")  # Let training initialize from model zoo\n",
        "  cfg.SOLVER.IMS_PER_BATCH = 4\n",
        "  cfg.SOLVER.BASE_LR = 0.00025  # pick a good LR\n",
        "  cfg.SOLVER.MAX_ITER = 3000    # 300 iterations seems good enough for this toy dataset; you will need to train longer for a practical dataset\n",
        "  cfg.SOLVER.STEPS = []        # do not decay learning rate\n",
        "  cfg.MODEL.ROI_HEADS.BATCH_SIZE_PER_IMAGE = 128   # faster, and good enough for this toy dataset (default: 512)\n",
        "  cfg.MODEL.ROI_HEADS.NUM_CLASSES = 23  # INNY PRZYKŁAD: only has one class (ballon). (see https://detectron2.readthedocs.io/tutorials/datasets.html#update-the-config-for-new-datasets)\n",
        "  # NOTE: this config means the number of classes, but a few popular unofficial tutorials incorrect uses num_classes+1 here.\n",
        "\n",
        "  os.makedirs(cfg.OUTPUT_DIR, exist_ok=True)\n",
        "  trainer = DefaultTrainer(cfg) \n",
        "  trainer.resume_or_load(resume=False)\n",
        "  trainer.train()"
      ],
      "execution_count": null,
      "outputs": []
    },
    {
      "cell_type": "code",
      "metadata": {
        "id": "UBATgT4OuRjv"
      },
      "source": [
        "if DO_TRAIN:\n",
        "  # Look at training curves in tensorboard:\n",
        "  %load_ext tensorboard\n",
        "  %tensorboard --logdir output"
      ],
      "execution_count": null,
      "outputs": []
    },
    {
      "cell_type": "markdown",
      "metadata": {
        "id": "gu4MrOuLBlgO"
      },
      "source": [
        "# Predykcja"
      ]
    },
    {
      "cell_type": "markdown",
      "metadata": {
        "id": "JUKBJFLQBvjP"
      },
      "source": [
        "Stworzenie predyktora"
      ]
    },
    {
      "cell_type": "code",
      "source": [
        "if not DO_TRAIN:\n",
        "  cfg = get_cfg()\n",
        "  cfg.merge_from_file(model_zoo.get_config_file(\"COCO-InstanceSegmentation/mask_rcnn_R_50_FPN_3x.yaml\"))\n",
        "  cfg.DATASETS.TRAIN = (\"car_train\",)\n",
        "  cfg.DATASETS.TEST = ()\n",
        "  cfg.DATALOADER.NUM_WORKERS = 2\n",
        "  cfg.MODEL.WEIGHTS = model_zoo.get_checkpoint_url(\"COCO-InstanceSegmentation/mask_rcnn_R_50_FPN_3x.yaml\")  # Let training initialize from model zoo\n",
        "  cfg.SOLVER.IMS_PER_BATCH = 4\n",
        "  cfg.SOLVER.BASE_LR = 0.00025  # pick a good LR\n",
        "  cfg.SOLVER.MAX_ITER = 3000    # 300 iterations seems good enough for this toy dataset; you will need to train longer for a practical dataset\n",
        "  cfg.SOLVER.STEPS = []        # do not decay learning rate\n",
        "  cfg.MODEL.ROI_HEADS.BATCH_SIZE_PER_IMAGE = 128   # faster, and good enough for this toy dataset (default: 512)\n",
        "  cfg.MODEL.ROI_HEADS.NUM_CLASSES = 23  # INNY PRZYKŁAD: only has one class (ballon). (see https://detectron2.readthedocs.io/tutorials/datasets.html#update-the-config-for-new-datasets)\n",
        "  # NOTE: this config means the number of classes, but a few popular unofficial tutorials incorrect uses num_classes+1 here."
      ],
      "metadata": {
        "id": "01a16uCu2v6I"
      },
      "execution_count": null,
      "outputs": []
    },
    {
      "cell_type": "code",
      "metadata": {
        "id": "7T9tR1h1BnZT"
      },
      "source": [
        "# Inference should use the config with parameters that are used in training\n",
        "# cfg now already contains everything we've set previously. We changed it a little bit for inference:\n",
        "cfg.MODEL.WEIGHTS = os.path.join(cfg.OUTPUT_DIR, \"model_final.pth\")  # path to the model we just trained\n",
        "cfg.MODEL.ROI_HEADS.SCORE_THRESH_TEST = 0.7   # set a custom testing threshold\n",
        "predictor = DefaultPredictor(cfg)"
      ],
      "execution_count": null,
      "outputs": []
    },
    {
      "cell_type": "markdown",
      "metadata": {
        "id": "UE7QDzeeDJT-"
      },
      "source": [
        "Wybranie kilku losowych próbek w celu wizualizacji predykcji"
      ]
    },
    {
      "cell_type": "code",
      "metadata": {
        "id": "wC-rk8gDDQ0o"
      },
      "source": [
        "from detectron2.utils.visualizer import ColorMode\n",
        "dataset_dicts = DatasetCatalog.get(\"car_test\")\n",
        "for d in random.sample(dataset_dicts, 3):    \n",
        "    im = cv2.imread(d[\"file_name\"])\n",
        "    outputs = predictor(im)\n",
        "      # format is documented at https://detectron2.readthedocs.io/tutorials/models.html#model-output-format\n",
        "    v = Visualizer(im[:, :, ::-1],\n",
        "                   metadata=test_metadata, \n",
        "                   scale=0.5, \n",
        "                   instance_mode=ColorMode.IMAGE_BW   # remove the colors of unsegmented pixels. This option is only available for segmentation models\n",
        "    )\n",
        "    out = v.draw_instance_predictions(outputs[\"instances\"].to(\"cpu\"))\n",
        "    cv2_imshow(out.get_image()[:, :, ::-1])"
      ],
      "execution_count": null,
      "outputs": []
    },
    {
      "cell_type": "markdown",
      "metadata": {
        "id": "Q3-TeZ3DEjl2"
      },
      "source": [
        "Ocena metryki AP zaimplementowanej w COCO API"
      ]
    },
    {
      "cell_type": "code",
      "metadata": {
        "id": "OQkP4snSEbfs"
      },
      "source": [
        "from detectron2.evaluation import COCOEvaluator, inference_on_dataset\n",
        "from detectron2.data import build_detection_test_loader\n",
        "evaluator = COCOEvaluator(\"car_test\", output_dir=\"./output\")\n",
        "val_loader = build_detection_test_loader(cfg, \"car_test\")\n",
        "print(inference_on_dataset(predictor.model, val_loader, evaluator))\n",
        "# another equivalent way to evaluate the model is to use `trainer.test`"
      ],
      "execution_count": null,
      "outputs": []
    },
    {
      "cell_type": "markdown",
      "metadata": {
        "id": "rkNc16Jl0TIp"
      },
      "source": [
        "# Zapisanie wytrenowanego modelu na dysk Google"
      ]
    },
    {
      "cell_type": "code",
      "metadata": {
        "id": "IDowIQvG1Rxu"
      },
      "source": [
        "GDRIVE_SAVE = False"
      ],
      "execution_count": null,
      "outputs": []
    },
    {
      "cell_type": "code",
      "metadata": {
        "id": "yEN9CoHd4XET"
      },
      "source": [
        "if GDRIVE_SAVE:\n",
        "  from google.colab import drive\n",
        "  gdrive = 'gdrive'\n",
        "  drive.mount(gdrive)"
      ],
      "execution_count": null,
      "outputs": []
    },
    {
      "cell_type": "code",
      "metadata": {
        "id": "p3AMG3QW7tmR"
      },
      "source": [
        "if GDRIVE_SAVE:\n",
        "  MyDriveFolder = 'MyDrive/WK_projekt'\n",
        "  addName = \"_kaggle_deafult_classes\"\n",
        "  addName = \"_kaggle_same_classes211\"\n",
        "  addName = \"_kaggle_and_git_i3000_b4\"\n",
        "  addName = \"_kaggle_and_git_i3000_b8\"\n",
        "  fullPathGdrive = os.path.join(MyDriveFolder, addName)\n",
        "  fullPathGdrive = os.path.join(gdrive, fullPathGdrive)\n",
        "  addPrefix = False\n",
        "\n",
        "\n",
        "  def copyToGDrive(inputFile, input_cut=-4, addPrefix=addPrefix):\n",
        "    inputFolder = '/content/output'\n",
        "    input = os.path.join(inputFolder, inputFile)\n",
        "    if addPrefix:\n",
        "      if input_cut is None:\n",
        "        output = os.path.join(fullPathGdrive, inputFile + addName)\n",
        "      else:\n",
        "        output = os.path.join(fullPathGdrive, inputFile[:input_cut] + addName)\n",
        "    else:\n",
        "      output = os.path.join(fullPathGdrive, inputFile)\n",
        "    #\n",
        "    shutil.copyfile(input, output)\n",
        "\n",
        "\n",
        "  copyToGDrive('model_final.pth', input_cut=-4)\n",
        "  # copyToGDrive('instances_predictions.pth', input_cut=-4)\n",
        "  # copyToGDrive('coco_instances_results.json', input_cut=-5)\n",
        "  copyToGDrive('last_checkpoint', input_cut=None)\n",
        "  copyToGDrive('metrics.json', input_cut=-5)"
      ],
      "execution_count": null,
      "outputs": []
    },
    {
      "cell_type": "code",
      "metadata": {
        "id": "iSik0Oxc1EhY"
      },
      "source": [
        "if GDRIVE_SAVE:\n",
        "  # # !cp /content/output/* gdrive/'MyDrive'/output/*\n",
        "\n",
        "\n",
        "  # !cp /content/output/model_final.pth gdrive/MyDriveFolder2/model_final_kaggle_deafult_classes.pth\n",
        "  # !cp /content/output/instances_predictions.pth gdrive/MyDriveFolder2/instances_predictions_kaggle_deafult_classes.pth\n",
        "  # !cp /content/output/coco_instances_results.json gdrive/MyDriveFolder2/coco_instances_results_kaggle_deafult_classes.json\n",
        "  # # PONIŻEJ POMINIĘTY\n",
        "  # # !cp /content/output/events.out.tfevents.1637848179.a15d66e95ab2.458.0 gdrive/MyDriveFolder2/events.out.tfevents.1637848179.a15d66e95ab2.458.0\n",
        "\n",
        "  # !cp /content/output/last_checkpoint gdrive/MyDriveFolder2/last_checkpoint_kaggle_deafult_classes\n",
        "  # !cp /content/output/metrics.json gdrive/MyDriveFolder2/metrics_kaggle_deafult_classes.json\n",
        "  # # PONIŻEJ POMINIĘTY\n",
        "  # # !cp /content/output/model_0004999.pth gdrive/MyDriveFolder2/model_0004999.pth.json\n",
        "  pass"
      ],
      "execution_count": null,
      "outputs": []
    },
    {
      "cell_type": "markdown",
      "metadata": {
        "id": "G6X_EKHI-q_O"
      },
      "source": [
        "# Wczytanie modelu z dysku Google"
      ]
    },
    {
      "cell_type": "code",
      "metadata": {
        "id": "E72Iomxl1jDU"
      },
      "source": [
        "GDRIVE_READ = True"
      ],
      "execution_count": null,
      "outputs": []
    },
    {
      "cell_type": "code",
      "metadata": {
        "id": "5g2i1z1cQwx-"
      },
      "source": [
        "if GDRIVE_READ:\n",
        "  ! mkdir output"
      ],
      "execution_count": null,
      "outputs": []
    },
    {
      "cell_type": "code",
      "metadata": {
        "id": "FaPtb8vk-qXB"
      },
      "source": [
        "if GDRIVE_READ:\n",
        "  from google.colab import drive\n",
        "  gdrive = 'gdrive'\n",
        "  drive.mount(gdrive)"
      ],
      "execution_count": null,
      "outputs": []
    },
    {
      "cell_type": "code",
      "metadata": {
        "id": "IL4z1FhY-0FF"
      },
      "source": [
        "if GDRIVE_READ:\n",
        "  MyDriveFolder = 'MyDrive/WK_projekt'\n",
        "  addName = \"_kaggle_deafult_classes\"\n",
        "  addName = \"_kaggle_same_classes211\"\n",
        "  addName = \"_kaggle_and_git_i3000_b4\"\n",
        "  addName = \"_kaggle_and_git_i3000_b8\"\n",
        "  fullPathGdrive = os.path.join(MyDriveFolder, addName)\n",
        "  fullPathGdrive = os.path.join(gdrive, fullPathGdrive)\n",
        "  addPrefix = False\n",
        "\n",
        "\n",
        "  def copyFromGDrive(outputFile, input_cut=-4, addPrefix=addPrefix):\n",
        "    outputFolder = '/content/output'\n",
        "    output = os.path.join(outputFolder, outputFile)\n",
        "    if addPrefix:\n",
        "      if input_cut is None:\n",
        "        input = os.path.join(fullPathGdrive, outputFile + addName)\n",
        "      else:\n",
        "        input = os.path.join(fullPathGdrive, outputFile[:input_cut] + addName)\n",
        "    else:\n",
        "      input = os.path.join(fullPathGdrive, outputFile)\n",
        "    #\n",
        "    shutil.copyfile(input, output)\n",
        "\n",
        "\n",
        "  copyFromGDrive('model_final.pth', input_cut=-4)\n",
        "  # copyFromGDrive('instances_predictions.pth', input_cut=-4)\n",
        "  # copyFromGDrive('coco_instances_results.json', input_cut=-5)\n",
        "  copyFromGDrive('last_checkpoint', input_cut=None)\n",
        "  copyFromGDrive('metrics.json', input_cut=-5)"
      ],
      "execution_count": null,
      "outputs": []
    },
    {
      "cell_type": "markdown",
      "metadata": {
        "id": "zDhH0oyBHV3m"
      },
      "source": [
        "# Kolorowanie zdjęcia"
      ]
    },
    {
      "cell_type": "markdown",
      "source": [
        "Wczytywanie zdjęcia"
      ],
      "metadata": {
        "id": "7NIxDabgH9Zc"
      }
    },
    {
      "cell_type": "code",
      "metadata": {
        "id": "SrXwHw-SaI2p"
      },
      "source": [
        "im_path = \"git_and_kaggle_merged/676069.png\"\n",
        "# im_path = \"colored_car.png\"\n",
        "im_path = \"chrysler.jpg\"\n",
        "im = cv2.imread(im_path)\n",
        "cv2_imshow(im)"
      ],
      "execution_count": null,
      "outputs": []
    },
    {
      "cell_type": "markdown",
      "source": [
        "predykcja na zdjęciu"
      ],
      "metadata": {
        "id": "XHEqfkb7Ci4N"
      }
    },
    {
      "cell_type": "code",
      "source": [
        "pred = predictor(im)"
      ],
      "metadata": {
        "id": "bY0PVTtuCnQQ"
      },
      "execution_count": null,
      "outputs": []
    },
    {
      "cell_type": "code",
      "source": [
        "pred_classes = pred['instances'].pred_classes.cpu().tolist()\n",
        "class_names = MetadataCatalog.get(\"car_test\").thing_classes\n",
        "pred_class_names = list(map(lambda x: class_names[x], pred_classes))"
      ],
      "metadata": {
        "id": "yX7PKMuZDXLE"
      },
      "execution_count": null,
      "outputs": []
    },
    {
      "cell_type": "markdown",
      "source": [
        "wykryte segmenty obrazu"
      ],
      "metadata": {
        "id": "f9khRGyrHj3p"
      }
    },
    {
      "cell_type": "code",
      "source": [
        "pred_class_names"
      ],
      "metadata": {
        "id": "R1maghraFaqs"
      },
      "execution_count": null,
      "outputs": []
    },
    {
      "cell_type": "markdown",
      "source": [
        "wybierz segment, którego kolor chcesz zmienić i podaj jego index"
      ],
      "metadata": {
        "id": "7Su9dZkrHiaz"
      }
    },
    {
      "cell_type": "code",
      "source": [
        "index_to_color = 0"
      ],
      "metadata": {
        "id": "-XYyJlWgF3Jw"
      },
      "execution_count": null,
      "outputs": []
    },
    {
      "cell_type": "markdown",
      "source": [
        "zapisanie maski binarnej wybranego segmentu"
      ],
      "metadata": {
        "id": "X5XzcjZeIiTQ"
      }
    },
    {
      "cell_type": "code",
      "source": [
        "! mkdir bin_masks"
      ],
      "metadata": {
        "id": "Ro4BSFB_K0Ie"
      },
      "execution_count": null,
      "outputs": []
    },
    {
      "cell_type": "code",
      "source": [
        "def getMaskOfWantedSegm(outputs, inst_idx):\n",
        "  mask = outputs['instances'].pred_masks[inst_idx]\n",
        "  mask = mask.to('cpu').numpy()\n",
        "  return mask\n",
        "\n",
        "def showMasks(masks, scale=256):\n",
        "  for m in masks:\n",
        "    cv2_imshow(m*scale)\n",
        "\n",
        "def saveMasks(masks, scale=1, prefix=\"./bin_masks/mask\"):\n",
        "  i = 1\n",
        "  for m in masks:\n",
        "    filename = prefix + str(i) + \".png\"\n",
        "    cv2.imwrite(filename, m*scale)\n",
        "\n",
        "\n",
        "masks = [getMaskOfWantedSegm(pred, index_to_color)]\n",
        "showMasks(masks, scale=256)\n",
        "saveMasks(masks, scale=256)\n",
        "mask = masks[0]"
      ],
      "metadata": {
        "id": "6iuM6-cCH1Fy"
      },
      "execution_count": null,
      "outputs": []
    },
    {
      "cell_type": "markdown",
      "source": [
        "nałożenie maski na obraz"
      ],
      "metadata": {
        "id": "sWFHB3KDLLmh"
      }
    },
    {
      "cell_type": "code",
      "source": [
        "mask8 = mask.astype(np.uint8)\n",
        "segment = cv2.bitwise_and(im, im, mask=mask8)\n",
        "cv2_imshow(segment)"
      ],
      "metadata": {
        "id": "tNOyAExQLQvz"
      },
      "execution_count": null,
      "outputs": []
    },
    {
      "cell_type": "markdown",
      "source": [
        "Rotacja koloru segmentu - podaj docelowy odcień (Hue)"
      ],
      "metadata": {
        "id": "iS6lEKn1RTdC"
      }
    },
    {
      "cell_type": "markdown",
      "source": [
        "![obraz.png](data:image/png;base64,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)"
      ],
      "metadata": {
        "id": "WXcha9afTQ-X"
      }
    },
    {
      "cell_type": "code",
      "source": [
        "target_hue = 120\n",
        "\n",
        "# dzielimy na dwa, poniweaż opencv operuje na zakresie 0-179 hue\n",
        "target_hue /= 2"
      ],
      "metadata": {
        "id": "8QGExWqfROwe"
      },
      "execution_count": null,
      "outputs": []
    },
    {
      "cell_type": "markdown",
      "source": [
        "Zmiana do HSV -> rotacja -> zmiana do RGB -> wyczyszczenie artefaktów maską"
      ],
      "metadata": {
        "id": "fa9kyuFTYb6d"
      }
    },
    {
      "cell_type": "code",
      "source": [
        "hsvSegment = cv2.cvtColor(segment, cv2.COLOR_RGB2HSV)\n",
        "print(\"Segment w przestrzeni HSV\")\n",
        "cv2_imshow(hsvSegment)\n",
        "\n",
        "\n",
        "# Obliczanie wymaganej rotacji\n",
        "n_samp = mask8.sum() / mask8.max()\n",
        "sum_hue = hsvSegment[:,:,0].sum()\n",
        "avg_hue = sum_hue/n_samp\n",
        "\n",
        "if avg_hue > target_hue:\n",
        "  rotation = -(avg_hue-target_hue)\n",
        "else:\n",
        "  rotation = target_hue - avg_hue\n",
        "\n",
        "\n",
        "# rotation można też podać jako wartość stałą\n",
        "# rotation = 20\n",
        "\n",
        "hsvRotatedSegment = hsvSegment.copy()\n",
        "# rotacja koloru\n",
        "shape = hsvSegment.shape\n",
        "for i in range(shape[0]):\n",
        "  for j in range(shape[1]):\n",
        "    hsvRotatedSegment[i,j,0] = (hsvSegment[i,j,0] + rotation) % 181\n",
        "\n",
        "print(\"Segment w przestrzeni HSV po rotacji Hue\")\n",
        "cv2_imshow(hsvRotatedSegment)\n",
        "\n",
        "rgbSegment = cv2.cvtColor(hsvRotatedSegment, cv2.COLOR_HSV2RGB)\n",
        "rgbSegment = cv2.bitwise_and(rgbSegment, rgbSegment, mask=mask8)\n",
        "print(\"Segment w przestrzeni RGB po rotacji Hue\")\n",
        "cv2_imshow(rgbSegment)"
      ],
      "metadata": {
        "id": "wpoC3OmcT9p-"
      },
      "execution_count": null,
      "outputs": []
    },
    {
      "cell_type": "markdown",
      "source": [
        "Nałożenie pokolorowanego segmentu na obraz"
      ],
      "metadata": {
        "id": "jL6p66DeiyG6"
      }
    },
    {
      "cell_type": "code",
      "source": [
        "# odwrócenie maski\n",
        "inverted_mask8 = cv2.bitwise_not(mask8).astype(np.uint8)\n",
        "\n",
        "# obraz z wyciętym kołem (tło) - koło wyzerowane\n",
        "im_bg = cv2.bitwise_and(im, im, mask=inverted_mask8)\n",
        "\n",
        "# Suma obrazków\n",
        "dst = cv2.add(im_bg, rgbSegment)\n",
        "\n",
        "# wyświetlenie\n",
        "cv2_imshow(dst)\n",
        "\n",
        "# zapis do pliku\n",
        "cv2.imwrite(\"colored_car.png\", dst)"
      ],
      "metadata": {
        "id": "i5c6drUNUXWm"
      },
      "execution_count": null,
      "outputs": []
    }
  ]
}